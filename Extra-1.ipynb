{
 "cells": [
  {
   "cell_type": "code",
   "execution_count": 2,
   "id": "e529aef1-32d3-4798-937c-b3e04f914f31",
   "metadata": {},
   "outputs": [
    {
     "name": "stdout",
     "output_type": "stream",
     "text": [
      "HOPE AI\n"
     ]
    }
   ],
   "source": [
    "print(\"HOPE AI\")"
   ]
  },
  {
   "cell_type": "code",
   "execution_count": 6,
   "id": "11051e2a-f3d8-4fc8-876c-69bccebef85c",
   "metadata": {},
   "outputs": [
    {
     "name": "stdin",
     "output_type": "stream",
     "text": [
      "Enter your institute name? : HOPE AI\n"
     ]
    },
    {
     "data": {
      "text/plain": [
       "'HOPE AI'"
      ]
     },
     "execution_count": 6,
     "metadata": {},
     "output_type": "execute_result"
    }
   ],
   "source": [
    "input(\"Enter your institute name? :\")"
   ]
  },
  {
   "cell_type": "code",
   "execution_count": 7,
   "id": "515890f4-3973-470c-ae04-4551909ad814",
   "metadata": {},
   "outputs": [
    {
     "name": "stdin",
     "output_type": "stream",
     "text": [
      "Enter your name:  Thilak\n",
      "Enter your age:  45\n",
      "Enter your school name:  SDA\n",
      "Enter your drgree:  MCA\n"
     ]
    },
    {
     "data": {
      "text/plain": [
       "'MCA'"
      ]
     },
     "execution_count": 7,
     "metadata": {},
     "output_type": "execute_result"
    }
   ],
   "source": [
    "input(\"Enter your name: \")\n",
    "input(\"Enter your age: \")\n",
    "input(\"Enter your school name: \")\n",
    "input(\"Enter your drgree: \")"
   ]
  },
  {
   "cell_type": "code",
   "execution_count": 14,
   "id": "4a317bab-9ea9-4830-9b1d-55326b63f6dd",
   "metadata": {},
   "outputs": [
    {
     "name": "stdin",
     "output_type": "stream",
     "text": [
      "a= 56\n",
      "b= 34\n"
     ]
    },
    {
     "name": "stdout",
     "output_type": "stream",
     "text": [
      "add =  90\n"
     ]
    }
   ],
   "source": [
    "a=int(input('a='))\n",
    "b=int(input('b='))\n",
    "add=a+b\n",
    "print(\"add = \",add)"
   ]
  },
  {
   "cell_type": "code",
   "execution_count": 13,
   "id": "ce3bb311-e789-46bd-9201-a3194621b86e",
   "metadata": {},
   "outputs": [
    {
     "name": "stdin",
     "output_type": "stream",
     "text": [
      "a= 76\n",
      "b= 34\n"
     ]
    },
    {
     "name": "stdout",
     "output_type": "stream",
     "text": [
      "Sub =  42\n"
     ]
    }
   ],
   "source": [
    "a=int(input('a='))\n",
    "b=int(input('b='))\n",
    "Sub=a-b\n",
    "print(\"Sub = \",Sub)"
   ]
  },
  {
   "cell_type": "code",
   "execution_count": 17,
   "id": "7253a1a5-23fc-4bf5-b08b-2e02610be0da",
   "metadata": {},
   "outputs": [
    {
     "name": "stdin",
     "output_type": "stream",
     "text": [
      "a= 73\n",
      "b= 6\n"
     ]
    },
    {
     "name": "stdout",
     "output_type": "stream",
     "text": [
      "Floor Div =  12.166666666666666\n"
     ]
    }
   ],
   "source": [
    "a=float(input('a='))\n",
    "b=float(input('b='))\n",
    "Div=a/b\n",
    "print(\"Floor Div = \",Div)"
   ]
  },
  {
   "cell_type": "code",
   "execution_count": 20,
   "id": "e14b7a39-87a2-4ecd-b78c-68eb68470e99",
   "metadata": {},
   "outputs": [
    {
     "name": "stdin",
     "output_type": "stream",
     "text": [
      "a= 83\n",
      "b= 3\n"
     ]
    },
    {
     "name": "stdout",
     "output_type": "stream",
     "text": [
      "Modulo =  2.0\n"
     ]
    }
   ],
   "source": [
    "a=float(input('a='))\n",
    "b=float(input('b='))\n",
    "Modulo=a%b\n",
    "print(\"Modulo = \",Modulo)"
   ]
  },
  {
   "cell_type": "code",
   "execution_count": 21,
   "id": "adf94412-0af0-4650-9c5a-e902310c6dac",
   "metadata": {},
   "outputs": [
    {
     "name": "stdin",
     "output_type": "stream",
     "text": [
      "a= 4\n",
      "b= 4\n"
     ]
    },
    {
     "name": "stdout",
     "output_type": "stream",
     "text": [
      "Power =  256.0\n"
     ]
    }
   ],
   "source": [
    "a=float(input('a='))\n",
    "b=float(input('b='))\n",
    "power=pow(a,b)\n",
    "print(\"Power = \",power)"
   ]
  },
  {
   "cell_type": "code",
   "execution_count": null,
   "id": "400acad9-5d1d-4b3a-b3f9-d136a8854ae0",
   "metadata": {},
   "outputs": [],
   "source": []
  }
 ],
 "metadata": {
  "kernelspec": {
   "display_name": "Python 3 (ipykernel)",
   "language": "python",
   "name": "python3"
  },
  "language_info": {
   "codemirror_mode": {
    "name": "ipython",
    "version": 3
   },
   "file_extension": ".py",
   "mimetype": "text/x-python",
   "name": "python",
   "nbconvert_exporter": "python",
   "pygments_lexer": "ipython3",
   "version": "3.12.7"
  }
 },
 "nbformat": 4,
 "nbformat_minor": 5
}
