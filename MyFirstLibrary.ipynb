{
 "cells": [
  {
   "cell_type": "code",
   "execution_count": 5,
   "id": "074bd3b9-be98-46a7-8eee-5b443f269046",
   "metadata": {},
   "outputs": [
    {
     "name": "stdout",
     "output_type": "stream",
     "text": [
      "Sub-fields in AI are:\n",
      "Machine Learning\n",
      "Neural Networks\n",
      "Vision\n",
      "Robotics\n",
      "Speech Processing\n",
      "Natural Language Processing\n"
     ]
    }
   ],
   "source": [
    "MymultipleFunctions.Subfields()"
   ]
  },
  {
   "cell_type": "code",
   "execution_count": 9,
   "id": "e6a514d8-32d7-4275-b599-fbc10c0fa857",
   "metadata": {},
   "outputs": [],
   "source": [
    "from MyfirstLib import MymultipleFunctions"
   ]
  },
  {
   "cell_type": "code",
   "execution_count": 10,
   "id": "d243068a-f5c5-46e9-8ced-a4eea609d619",
   "metadata": {},
   "outputs": [
    {
     "name": "stdin",
     "output_type": "stream",
     "text": [
      "Enter the Number:  67\n"
     ]
    },
    {
     "name": "stdout",
     "output_type": "stream",
     "text": [
      "67  is Odd number\n"
     ]
    },
    {
     "data": {
      "text/plain": [
       "'Odd Number'"
      ]
     },
     "execution_count": 10,
     "metadata": {},
     "output_type": "execute_result"
    }
   ],
   "source": [
    "MymultipleFunctions.OddEven()"
   ]
  },
  {
   "cell_type": "code",
   "execution_count": 11,
   "id": "f731c3f7-6d87-4f39-bed6-838ec052aa92",
   "metadata": {},
   "outputs": [
    {
     "name": "stdin",
     "output_type": "stream",
     "text": [
      "Subject1 : 98\n",
      "Subject2 : 67\n",
      "Subject3 : 87\n",
      "Subject4 : 89\n",
      "Subject5 : 98\n"
     ]
    },
    {
     "name": "stdout",
     "output_type": "stream",
     "text": [
      "Subject1 : 98\n",
      "Subject2 : 67\n",
      "Subject3 : 87\n",
      "Subject4 : 89\n",
      "Subject5 : 98\n",
      "Total : 439\n",
      "Percentage : 87.8\n"
     ]
    }
   ],
   "source": [
    "MymultipleFunctions.percentage()"
   ]
  },
  {
   "cell_type": "code",
   "execution_count": 12,
   "id": "27b6e3b8-871b-41ce-8545-cfa06ff04cd6",
   "metadata": {},
   "outputs": [
    {
     "name": "stdin",
     "output_type": "stream",
     "text": [
      "Enter your Gender(Male or Female): male\n",
      "Enter your Age : 54\n"
     ]
    },
    {
     "name": "stdout",
     "output_type": "stream",
     "text": [
      "Your Gender:  male\n",
      "Your Age:  54\n",
      "Elegible\n"
     ]
    },
    {
     "data": {
      "text/plain": [
       "'Elegible'"
      ]
     },
     "execution_count": 12,
     "metadata": {},
     "output_type": "execute_result"
    }
   ],
   "source": [
    "MymultipleFunctions.Elegible()"
   ]
  },
  {
   "cell_type": "code",
   "execution_count": 13,
   "id": "f1f88e05-107a-4080-888f-2e4da1f58d1f",
   "metadata": {},
   "outputs": [
    {
     "name": "stdin",
     "output_type": "stream",
     "text": [
      "Height:  7\n",
      "Breadth:  7\n"
     ]
    },
    {
     "name": "stdout",
     "output_type": "stream",
     "text": [
      "Area formula: (Height*Breadth)/2\n",
      "Area of Triangle:   24.5\n"
     ]
    },
    {
     "name": "stdin",
     "output_type": "stream",
     "text": [
      "Height1:  8\n",
      "Height2:  6\n",
      "Breadth:  7\n"
     ]
    },
    {
     "name": "stdout",
     "output_type": "stream",
     "text": [
      "Perimeter formula: Height1+Height2+Breadth \n",
      "Perimeter of Triangle:  21\n"
     ]
    }
   ],
   "source": [
    "MymultipleFunctions.triangle()"
   ]
  },
  {
   "cell_type": "code",
   "execution_count": null,
   "id": "aee21704-8324-4a3f-a967-4093d8c85398",
   "metadata": {},
   "outputs": [],
   "source": []
  }
 ],
 "metadata": {
  "kernelspec": {
   "display_name": "Python 3 (ipykernel)",
   "language": "python",
   "name": "python3"
  },
  "language_info": {
   "codemirror_mode": {
    "name": "ipython",
    "version": 3
   },
   "file_extension": ".py",
   "mimetype": "text/x-python",
   "name": "python",
   "nbconvert_exporter": "python",
   "pygments_lexer": "ipython3",
   "version": "3.12.7"
  }
 },
 "nbformat": 4,
 "nbformat_minor": 5
}
