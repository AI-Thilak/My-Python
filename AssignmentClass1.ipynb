{
 "cells": [
  {
   "cell_type": "code",
   "execution_count": 27,
   "id": "f0007db6-af63-4a20-b84b-dd2ebe52c1d7",
   "metadata": {},
   "outputs": [],
   "source": [
    "def Subfields():\n",
    "    list=[\"Machine Learning\",\"Neural Networks\",\"Vision\",\"Robotics\",\"Speech Processing\",\"Natural Language Processing\"]\n",
    "    print(\"Sub-fields in AI are:\")\n",
    "    for i in list:\n",
    "        print(i)\n",
    "    #        print(\"Machine Learning\\n\" \"Neural Networks\\n\" 'Vision\\n''Robotics\\n''Speech Processing\\n''Natural Language Processing')\n",
    "        "
   ]
  },
  {
   "cell_type": "code",
   "execution_count": 28,
   "id": "7cf43cc3-19d2-40d6-a213-6344b6ffaf0a",
   "metadata": {},
   "outputs": [
    {
     "name": "stdout",
     "output_type": "stream",
     "text": [
      "Sub-fields in AI are:\n",
      "Machine Learning\n",
      "Neural Networks\n",
      "Vision\n",
      "Robotics\n",
      "Speech Processing\n",
      "Natural Language Processing\n"
     ]
    }
   ],
   "source": [
    "Subfields()"
   ]
  },
  {
   "cell_type": "code",
   "execution_count": 4,
   "id": "582f6c19-461d-45c4-beed-f1a7ff877c05",
   "metadata": {},
   "outputs": [],
   "source": [
    " # Create a function that checks whether the given number is Odd or Even\n",
    "def OddEven():\n",
    "    t=(int(input(\"Enter the Number: \")))\n",
    "    if(t%2 == 0):\n",
    "         print(t, \" is Even number\")\n",
    "         out=\"Even Number\"\n",
    "         return out\n",
    "    else:\n",
    "         print(t, \" is Odd number\")\n",
    "         out=\"Odd Number\"\n",
    "         return out"
   ]
  },
  {
   "cell_type": "code",
   "execution_count": 5,
   "id": "670c4848-65ef-44b6-884d-56128fe4f180",
   "metadata": {},
   "outputs": [
    {
     "name": "stdin",
     "output_type": "stream",
     "text": [
      "Enter the Number:  65\n"
     ]
    },
    {
     "name": "stdout",
     "output_type": "stream",
     "text": [
      "65  is Odd number\n"
     ]
    },
    {
     "data": {
      "text/plain": [
       "'Odd Number'"
      ]
     },
     "execution_count": 5,
     "metadata": {},
     "output_type": "execute_result"
    }
   ],
   "source": [
    "OddEven()"
   ]
  },
  {
   "cell_type": "code",
   "execution_count": 85,
   "id": "b77a7afd-0d92-4c9d-8242-ef0a0f7fe0f5",
   "metadata": {},
   "outputs": [],
   "source": [
    "# calculate the percentage of your 10th mark    \n",
    "def percentage():\n",
    "    total = S1 + S2 + S3 + S4 + S5\n",
    "    per = (total / 500.0) * 100;\n",
    "    print(\"Subject1 :\",S1)\n",
    "    print(\"Subject2 :\",S2)\n",
    "    print(\"Subject3 :\",S3)\n",
    "    print(\"Subject4 :\",S4)\n",
    "    print(\"Subject5 :\",S5)\n",
    "    print(\"Total :\",total)\n",
    "    print(\"Percentage :\",per)\n"
   ]
  },
  {
   "cell_type": "code",
   "execution_count": 86,
   "id": "14caf4f1-0c55-4515-91e8-a6d4b65f9e92",
   "metadata": {},
   "outputs": [
    {
     "name": "stdout",
     "output_type": "stream",
     "text": [
      "Subject1 : 89.0\n",
      "Subject2 : 98.0\n",
      "Subject3 : 89.0\n",
      "Subject4 : 98.0\n",
      "Subject5 : 89.0\n",
      "Total : 463.0\n",
      "Percentage : 92.60000000000001\n"
     ]
    }
   ],
   "source": [
    "percentage()"
   ]
  },
  {
   "cell_type": "code",
   "execution_count": 12,
   "id": "89232870-c8ad-4ee1-9dd2-938ed29d795b",
   "metadata": {},
   "outputs": [],
   "source": [
    "# Create a function that tells elegibility of marriage for male and female according to their age limit like 21 for male and 18 for female\n",
    "def Elegible():\n",
    "    gen=input(\"Enter your Gender(Male or Female):\").strip().lower()\n",
    "    a=int(input(\"Enter your Age :\"))\n",
    "    if (a >= 21 and gen == \"male\"):\n",
    "        res=\"Elegible\"\n",
    "        print(\"Your Gender: \",gen)\n",
    "        print(\"Your Age: \",a)\n",
    "        print(\"Elegible\")\n",
    "        return res\n",
    "    elif (a >= 18 and gen == \"female\"):\n",
    "        res=\"Elegible\"\n",
    "        print(\"Your Gender: \",gen)\n",
    "        print(\"Your Age: \",a)\n",
    "        print(\"Elegible\")\n",
    "        return \"Elegible\"\n",
    "    else:\n",
    "        res=\"Not Elegible\"\n",
    "        print(\"Your Gender: \",gen)\n",
    "        print(\"Your Age: \",a)\n",
    "        print(\"Not Elegible\")\n",
    "        return res\n"
   ]
  },
  {
   "cell_type": "code",
   "execution_count": 13,
   "id": "707da9a0-927b-4c17-a7e0-fa8972a56ef6",
   "metadata": {},
   "outputs": [
    {
     "name": "stdin",
     "output_type": "stream",
     "text": [
      "Enter your Gender(Male or Female): female\n",
      "Enter your Age : 12\n"
     ]
    },
    {
     "name": "stdout",
     "output_type": "stream",
     "text": [
      "Your Gender:  female\n",
      "Your Age:  12\n",
      "Not Elegible\n"
     ]
    },
    {
     "data": {
      "text/plain": [
       "'Not Elegible'"
      ]
     },
     "execution_count": 13,
     "metadata": {},
     "output_type": "execute_result"
    }
   ],
   "source": [
    "Elegible()"
   ]
  },
  {
   "cell_type": "code",
   "execution_count": 19,
   "id": "667bce45-f401-4f0f-bf1e-519615cbffe9",
   "metadata": {},
   "outputs": [],
   "source": [
    "#print area and perimeter of triangle using class and functions\n",
    "def triangle():\n",
    "    H=int(input(\"Height: \"))\n",
    "    B=int(input(\"Breadth: \"))\n",
    "    #print(\"Area of Triangle\")\n",
    "    print(\"Area formula: (Height*Breadth)/2\")\n",
    "    aot=(H*B)/2\n",
    "    print(\"Area of Triangle:  \", aot)\n",
    "    #print(\"Perimeter of Triangle\")\n",
    "    H1=int(input(\"Height1: \"))\n",
    "    H2=int(input(\"Height2: \"))\n",
    "    B2=int(input(\"Breadth: \"))\n",
    "    print(\"Perimeter formula: Height1+Height2+Breadth \")\n",
    "    pot=H1+H2+B2\n",
    "    print(\"Perimeter of Triangle: \", pot)\n",
    "\n"
   ]
  },
  {
   "cell_type": "code",
   "execution_count": 20,
   "id": "5a6428b1-e3a5-4c6f-91b2-72ac7195d13a",
   "metadata": {},
   "outputs": [
    {
     "name": "stdin",
     "output_type": "stream",
     "text": [
      "Height:  32\n",
      "Breadth:  34\n"
     ]
    },
    {
     "name": "stdout",
     "output_type": "stream",
     "text": [
      "Area formula: (Height*Breadth)/2\n",
      "Area of Triangle:   544.0\n"
     ]
    },
    {
     "name": "stdin",
     "output_type": "stream",
     "text": [
      "Height1:  2\n",
      "Height2:  4\n",
      "Breadth:  4\n"
     ]
    },
    {
     "name": "stdout",
     "output_type": "stream",
     "text": [
      "Perimeter formula: Height1+Height2+Breadth \n",
      "Perimeter of Triangle:  10\n"
     ]
    }
   ],
   "source": [
    "triangle()"
   ]
  },
  {
   "cell_type": "code",
   "execution_count": null,
   "id": "8612af78-2332-46de-8510-4ccd21f81d59",
   "metadata": {},
   "outputs": [],
   "source": []
  }
 ],
 "metadata": {
  "kernelspec": {
   "display_name": "Python 3 (ipykernel)",
   "language": "python",
   "name": "python3"
  },
  "language_info": {
   "codemirror_mode": {
    "name": "ipython",
    "version": 3
   },
   "file_extension": ".py",
   "mimetype": "text/x-python",
   "name": "python",
   "nbconvert_exporter": "python",
   "pygments_lexer": "ipython3",
   "version": "3.12.7"
  }
 },
 "nbformat": 4,
 "nbformat_minor": 5
}
