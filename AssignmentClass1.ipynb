{
 "cells": [
  {
   "cell_type": "code",
   "execution_count": 8,
   "id": "7a4cac0f-0793-4c23-b9e2-eb9304d8a450",
   "metadata": {},
   "outputs": [
    {
     "name": "stdout",
     "output_type": "stream",
     "text": [
      "Machine Learning\n",
      "Neural Networks\n",
      "Vision\n",
      "Robotics\n",
      "Speech Processing\n",
      "Natural Language Processing\n"
     ]
    }
   ],
   "source": [
    "print(\"Machine Learning\\n\" \"Neural Networks\\n\" 'Vision\\n''Robotics\\n''Speech Processing\\n''Natural Language Processing')"
   ]
  },
  {
   "cell_type": "code",
   "execution_count": 47,
   "id": "f0007db6-af63-4a20-b84b-dd2ebe52c1d7",
   "metadata": {},
   "outputs": [],
   "source": [
    "def Subfields():\n",
    "    print(\"Sub-fields in AI are:\")\n",
    "    print(\"Machine Learning\\n\" \"Neural Networks\\n\" 'Vision\\n''Robotics\\n''Speech Processing\\n''Natural Language Processing')"
   ]
  },
  {
   "cell_type": "code",
   "execution_count": 48,
   "id": "7cf43cc3-19d2-40d6-a213-6344b6ffaf0a",
   "metadata": {},
   "outputs": [
    {
     "name": "stdout",
     "output_type": "stream",
     "text": [
      "Sub-fields in AI are:\n",
      "Machine Learning\n",
      "Neural Networks\n",
      "Vision\n",
      "Robotics\n",
      "Speech Processing\n",
      "Natural Language Processing\n"
     ]
    }
   ],
   "source": [
    "Subfields()"
   ]
  },
  {
   "cell_type": "code",
   "execution_count": 44,
   "id": "582f6c19-461d-45c4-beed-f1a7ff877c05",
   "metadata": {},
   "outputs": [],
   "source": [
    " # Create a function that checks whether the given number is Odd or Even\n",
    "def OddEven():\n",
    "    t=(int(input(\"Enter the Number: \")))\n",
    "    if(t%2 == 0):\n",
    "         print(t, \" is Even number\")\n",
    "    else:\n",
    "         print(t, \" is Odd number\")"
   ]
  },
  {
   "cell_type": "code",
   "execution_count": 45,
   "id": "670c4848-65ef-44b6-884d-56128fe4f180",
   "metadata": {},
   "outputs": [
    {
     "name": "stdin",
     "output_type": "stream",
     "text": [
      "Enter the Number:  54\n"
     ]
    },
    {
     "name": "stdout",
     "output_type": "stream",
     "text": [
      "54  is Even number\n"
     ]
    }
   ],
   "source": [
    "OddEven()"
   ]
  },
  {
   "cell_type": "code",
   "execution_count": 85,
   "id": "b77a7afd-0d92-4c9d-8242-ef0a0f7fe0f5",
   "metadata": {},
   "outputs": [],
   "source": [
    "# calculate the percentage of your 10th mark    \n",
    "def percentage():\n",
    "    total = S1 + S2 + S3 + S4 + S5\n",
    "    per = (total / 500.0) * 100;\n",
    "    print(\"Subject1 :\",S1)\n",
    "    print(\"Subject2 :\",S2)\n",
    "    print(\"Subject3 :\",S3)\n",
    "    print(\"Subject4 :\",S4)\n",
    "    print(\"Subject5 :\",S5)\n",
    "    print(\"Total :\",total)\n",
    "    print(\"Percentage :\",per)\n"
   ]
  },
  {
   "cell_type": "code",
   "execution_count": 86,
   "id": "14caf4f1-0c55-4515-91e8-a6d4b65f9e92",
   "metadata": {},
   "outputs": [
    {
     "name": "stdout",
     "output_type": "stream",
     "text": [
      "Subject1 : 89.0\n",
      "Subject2 : 98.0\n",
      "Subject3 : 89.0\n",
      "Subject4 : 98.0\n",
      "Subject5 : 89.0\n",
      "Total : 463.0\n",
      "Percentage : 92.60000000000001\n"
     ]
    }
   ],
   "source": [
    "percentage()"
   ]
  },
  {
   "cell_type": "code",
   "execution_count": 112,
   "id": "89232870-c8ad-4ee1-9dd2-938ed29d795b",
   "metadata": {},
   "outputs": [],
   "source": [
    "# Create a function that tells elegibility of marriage for male and female according to their age limit like 21 for male and 18 for female\n",
    "def Elegible():\n",
    "    gen=input(\"Enter your Gender(Male or Female):\").strip().lower()\n",
    "    a=int(input(\"Enter your Age :\"))\n",
    "    if (a >= 21 and gen == \"male\"):\n",
    "        res=\"Eligible\"\n",
    "        print(\"Your Gender: \",gen)\n",
    "        print(\"Your Age: \",a)\n",
    "        print(\"Eligible\")\n",
    "        return res\n",
    "    elif (a >= 18 and gen == \"female\"):\n",
    "        res=\"Eligible\"\n",
    "        print(\"Your Gender: \",gen)\n",
    "        print(\"Your Age: \",a)\n",
    "        print(\"Eligible\")\n",
    "        return \"Eligible\"\n",
    "    else:\n",
    "        res=\"Not Eligible\"\n",
    "        print(\"Your Gender: \",gen)\n",
    "        print(\"Your Age: \",a)\n",
    "        print(\"Not Eligible\")\n",
    "        return res\n"
   ]
  },
  {
   "cell_type": "code",
   "execution_count": 113,
   "id": "707da9a0-927b-4c17-a7e0-fa8972a56ef6",
   "metadata": {},
   "outputs": [
    {
     "name": "stdin",
     "output_type": "stream",
     "text": [
      "Enter your Gender(Male or Female): female\n",
      "Enter your Age : 11\n"
     ]
    },
    {
     "name": "stdout",
     "output_type": "stream",
     "text": [
      "Your Gender:  female\n",
      "Your Age:  11\n",
      "Not Eligible\n"
     ]
    },
    {
     "data": {
      "text/plain": [
       "'Not Eligible'"
      ]
     },
     "execution_count": 113,
     "metadata": {},
     "output_type": "execute_result"
    }
   ],
   "source": [
    "Elegible()"
   ]
  },
  {
   "cell_type": "code",
   "execution_count": null,
   "id": "667bce45-f401-4f0f-bf1e-519615cbffe9",
   "metadata": {},
   "outputs": [],
   "source": []
  }
 ],
 "metadata": {
  "kernelspec": {
   "display_name": "Python 3 (ipykernel)",
   "language": "python",
   "name": "python3"
  },
  "language_info": {
   "codemirror_mode": {
    "name": "ipython",
    "version": 3
   },
   "file_extension": ".py",
   "mimetype": "text/x-python",
   "name": "python",
   "nbconvert_exporter": "python",
   "pygments_lexer": "ipython3",
   "version": "3.12.7"
  }
 },
 "nbformat": 4,
 "nbformat_minor": 5
}
