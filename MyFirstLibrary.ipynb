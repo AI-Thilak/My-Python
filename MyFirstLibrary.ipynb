{
 "cells": [
  {
   "cell_type": "code",
   "execution_count": 5,
   "id": "074bd3b9-be98-46a7-8eee-5b443f269046",
   "metadata": {},
   "outputs": [
    {
     "name": "stdout",
     "output_type": "stream",
     "text": [
      "Sub-fields in AI are:\n",
      "Machine Learning\n",
      "Neural Networks\n",
      "Vision\n",
      "Robotics\n",
      "Speech Processing\n",
      "Natural Language Processing\n"
     ]
    }
   ],
   "source": [
    "MymultipleFunctions.Subfields()"
   ]
  },
  {
   "cell_type": "code",
   "execution_count": 9,
   "id": "e6a514d8-32d7-4275-b599-fbc10c0fa857",
   "metadata": {},
   "outputs": [],
   "source": [
    "from MyfirstLib import MymultipleFunctions"
   ]
  },
  {
   "cell_type": "code",
   "execution_count": 10,
   "id": "d243068a-f5c5-46e9-8ced-a4eea609d619",
   "metadata": {},
   "outputs": [
    {
     "name": "stdin",
     "output_type": "stream",
     "text": [
      "Enter the Number:  67\n"
     ]
    },
    {
     "name": "stdout",
     "output_type": "stream",
     "text": [
      "67  is Odd number\n"
     ]
    },
    {
     "data": {
      "text/plain": [
       "'Odd Number'"
      ]
     },
     "execution_count": 10,
     "metadata": {},
     "output_type": "execute_result"
    }
   ],
   "source": [
    "MymultipleFunctions.OddEven()"
   ]
  },
  {
   "cell_type": "code",
   "execution_count": null,
   "id": "f731c3f7-6d87-4f39-bed6-838ec052aa92",
   "metadata": {},
   "outputs": [],
   "source": []
  }
 ],
 "metadata": {
  "kernelspec": {
   "display_name": "Python 3 (ipykernel)",
   "language": "python",
   "name": "python3"
  },
  "language_info": {
   "codemirror_mode": {
    "name": "ipython",
    "version": 3
   },
   "file_extension": ".py",
   "mimetype": "text/x-python",
   "name": "python",
   "nbconvert_exporter": "python",
   "pygments_lexer": "ipython3",
   "version": "3.12.7"
  }
 },
 "nbformat": 4,
 "nbformat_minor": 5
}
