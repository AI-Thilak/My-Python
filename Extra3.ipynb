{
 "cells": [
  {
   "cell_type": "code",
   "execution_count": 4,
   "id": "e3782587-50d1-4b80-8b94-53cf6e0fab65",
   "metadata": {},
   "outputs": [
    {
     "name": "stdin",
     "output_type": "stream",
     "text": [
      "Value : 10\n"
     ]
    },
    {
     "name": "stdout",
     "output_type": "stream",
     "text": [
      "CORRECT\n"
     ]
    }
   ],
   "source": [
    "# print 'CORRECT' if i == 10\n",
    "i=int(input(\"Value :\"))\n",
    "if (i == 10):\n",
    "    print(\"CORRECT\")"
   ]
  },
  {
   "cell_type": "code",
   "execution_count": 9,
   "id": "153c398c-1094-4dcb-89d3-8d2e61438a27",
   "metadata": {},
   "outputs": [
    {
     "name": "stdin",
     "output_type": "stream",
     "text": [
      "Enter the password:  HOPE@123\n"
     ]
    },
    {
     "name": "stdout",
     "output_type": "stream",
     "text": [
      "Your password is correct\n"
     ]
    }
   ],
   "source": [
    "# Check the password, using if and else\n",
    "i=input(\"Enter the password: \")\n",
    "#print(i)\n",
    "if i == 'HOPE@123' :\n",
    "    print(\"Your password is correct\")\n"
   ]
  },
  {
   "cell_type": "code",
   "execution_count": 27,
   "id": "b31b1355-4a97-4d5a-8058-5f0c08b1c903",
   "metadata": {},
   "outputs": [
    {
     "name": "stdin",
     "output_type": "stream",
     "text": [
      "Age: 20\n"
     ]
    },
    {
     "name": "stdout",
     "output_type": "stream",
     "text": [
      "Adult\n"
     ]
    }
   ],
   "source": [
    " # Catagory the people by their age like children, adult, citizen, senior citizen...\n",
    "i=int(input(\"Age:\"))\n",
    "if(i < 18) :\n",
    "    print(\"Children\")\n",
    "elif(i >= 18 and i<30 ):\n",
    "    print(\"Adult\")\n",
    "elif(i >= 30 and i<60):\n",
    "    print(\"Citizen\")\n",
    "else:\n",
    "    print(\"senior citizen\")"
   ]
  },
  {
   "cell_type": "code",
   "execution_count": 32,
   "id": "4d263308-71c8-465d-9ee0-f131fff2a8eb",
   "metadata": {},
   "outputs": [
    {
     "name": "stdin",
     "output_type": "stream",
     "text": [
      "Enter any number: 34\n"
     ]
    },
    {
     "name": "stdout",
     "output_type": "stream",
     "text": [
      "No is positive\n"
     ]
    }
   ],
   "source": [
    " # Find whether given number is positive or negative\n",
    "i=int(input(\"Enter any number:\"))\n",
    "if i > 0 :\n",
    "    print(\"No is positive\")\n",
    "else:\n",
    "    print(\"No is Negative:\")"
   ]
  },
  {
   "cell_type": "code",
   "execution_count": 35,
   "id": "ba8f5548-6225-469e-b691-bc537a991f89",
   "metadata": {},
   "outputs": [
    {
     "name": "stdin",
     "output_type": "stream",
     "text": [
      "Enter a number to check: 22\n"
     ]
    },
    {
     "name": "stdout",
     "output_type": "stream",
     "text": [
      "No is not divisible by 5\n"
     ]
    }
   ],
   "source": [
    " # Check whether the given number is divisible by 5\n",
    "i=int(input(\"Enter a number to check:\"))\n",
    "if i%5 == 0 :\n",
    "    print(\"No is divisible by 5\")\n",
    "else:\n",
    "    print(\"No is not divisible by 5\")"
   ]
  },
  {
   "cell_type": "code",
   "execution_count": null,
   "id": "b1796048-7ee5-4c3c-8644-bdd791ffa098",
   "metadata": {},
   "outputs": [],
   "source": []
  }
 ],
 "metadata": {
  "kernelspec": {
   "display_name": "Python 3 (ipykernel)",
   "language": "python",
   "name": "python3"
  },
  "language_info": {
   "codemirror_mode": {
    "name": "ipython",
    "version": 3
   },
   "file_extension": ".py",
   "mimetype": "text/x-python",
   "name": "python",
   "nbconvert_exporter": "python",
   "pygments_lexer": "ipython3",
   "version": "3.12.7"
  }
 },
 "nbformat": 4,
 "nbformat_minor": 5
}
