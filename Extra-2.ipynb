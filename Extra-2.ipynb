{
 "cells": [
  {
   "cell_type": "code",
   "execution_count": 10,
   "id": "0f1641bf-3172-4bca-bc3a-58dbd1815fb5",
   "metadata": {},
   "outputs": [
    {
     "name": "stdout",
     "output_type": "stream",
     "text": [
      "0\n",
      "1\n",
      "2\n",
      "3\n",
      "4\n",
      "5\n",
      "6\n",
      "7\n",
      "8\n",
      "9\n",
      "10\n",
      "11\n",
      "12\n",
      "13\n",
      "14\n",
      "15\n",
      "16\n",
      "17\n",
      "18\n",
      "19\n"
     ]
    }
   ],
   "source": [
    "for i in range(0,20):\n",
    "    print(i)"
   ]
  },
  {
   "cell_type": "code",
   "execution_count": 11,
   "id": "50f3eb83-82fa-4b6a-a6f3-4657845cadb4",
   "metadata": {},
   "outputs": [
    {
     "name": "stdout",
     "output_type": "stream",
     "text": [
      "10\n",
      "11\n",
      "12\n",
      "13\n",
      "14\n",
      "15\n",
      "16\n",
      "17\n",
      "18\n",
      "19\n"
     ]
    }
   ],
   "source": [
    "for i in range(10,20):\n",
    "    print(i)"
   ]
  },
  {
   "cell_type": "code",
   "execution_count": 20,
   "id": "a43844fa-fefc-4908-b444-4bcd485a1aad",
   "metadata": {},
   "outputs": [
    {
     "name": "stdout",
     "output_type": "stream",
     "text": [
      "Number of item in the List2:   7\n"
     ]
    }
   ],
   "source": [
    "i=[10,20,14,55,43,87,76]\n",
    "print(\"Number of item in the List2:  \",len(i))"
   ]
  },
  {
   "cell_type": "code",
   "execution_count": 22,
   "id": "63c6d84f-f37d-4e40-aa76-8c177bf8c46c",
   "metadata": {},
   "outputs": [
    {
     "name": "stdout",
     "output_type": "stream",
     "text": [
      "A\n",
      "r\n",
      "t\n",
      "i\n",
      "f\n",
      "i\n",
      "c\n",
      "i\n",
      "a\n",
      "l\n",
      " \n",
      "I\n",
      "n\n",
      "t\n",
      "e\n",
      "l\n",
      "l\n",
      "i\n",
      "g\n",
      "e\n",
      "n\n",
      "c\n",
      "e\n"
     ]
    }
   ],
   "source": [
    "count=('Artificial Intelligence')\n",
    "for i in count:\n",
    "    print(i)"
   ]
  },
  {
   "cell_type": "code",
   "execution_count": 25,
   "id": "81a4d3cf-c757-4f98-b3d9-dd5f5280b0b5",
   "metadata": {},
   "outputs": [
    {
     "name": "stdout",
     "output_type": "stream",
     "text": [
      " -Your Name- \n",
      " -Your Age- \n",
      " -Your Profession - \n"
     ]
    }
   ],
   "source": [
    "print(' -Your Name- ')\n",
    "print(' -Your Age- ')\n",
    "print(' -Your Profession - ')"
   ]
  },
  {
   "cell_type": "code",
   "execution_count": 30,
   "id": "5111c852-8eb2-4bba-9438-177974c7228c",
   "metadata": {},
   "outputs": [
    {
     "name": "stdout",
     "output_type": "stream",
     "text": [
      "(1, 'Welcome', 2, 'Hope')\n"
     ]
    }
   ],
   "source": [
    "T=(1, 'Welcome', 2, 'Hope')\n",
    "print(T)"
   ]
  },
  {
   "cell_type": "code",
   "execution_count": 33,
   "id": "b9d5a7a8-9b88-425d-a8d0-7c7d667125ff",
   "metadata": {},
   "outputs": [
    {
     "name": "stdout",
     "output_type": "stream",
     "text": [
      "((0, 1, 2, 3), ('python', 'HOPE'))\n"
     ]
    }
   ],
   "source": [
    "t=((0, 1, 2, 3), ('python', 'HOPE'))\n",
    "print(tuple(t))"
   ]
  },
  {
   "cell_type": "code",
   "execution_count": 42,
   "id": "bc0606cc-4adb-4002-acf8-4e414d2d6880",
   "metadata": {},
   "outputs": [
    {
     "name": "stdout",
     "output_type": "stream",
     "text": [
      "19 is odd\n",
      "25 is odd\n",
      "1 is odd\n"
     ]
    }
   ],
   "source": [
    "r=[20,10,16,19,25,1,276,188]\n",
    "for t in r:\n",
    "    if(t%2 == 1):\n",
    "        print(t, \"is odd\")"
   ]
  },
  {
   "cell_type": "code",
   "execution_count": 40,
   "id": "48384733-baf3-4faa-abf3-9f0da8ad1fe9",
   "metadata": {},
   "outputs": [
    {
     "name": "stdout",
     "output_type": "stream",
     "text": [
      "20 is Even\n",
      "10 is Even\n",
      "16 is Even\n",
      "276 is Even\n",
      "188 is Even\n"
     ]
    }
   ],
   "source": [
    "r=[20,10,16,19,25,1,276,188]\n",
    "for t in r:\n",
    "    if(t%2 != 1):\n",
    "        print(t, \"is Even\")"
   ]
  },
  {
   "cell_type": "code",
   "execution_count": null,
   "id": "7cc07314-0c61-42e4-b9f3-1dc4aec5a148",
   "metadata": {},
   "outputs": [],
   "source": []
  }
 ],
 "metadata": {
  "kernelspec": {
   "display_name": "Python 3 (ipykernel)",
   "language": "python",
   "name": "python3"
  },
  "language_info": {
   "codemirror_mode": {
    "name": "ipython",
    "version": 3
   },
   "file_extension": ".py",
   "mimetype": "text/x-python",
   "name": "python",
   "nbconvert_exporter": "python",
   "pygments_lexer": "ipython3",
   "version": "3.12.7"
  }
 },
 "nbformat": 4,
 "nbformat_minor": 5
}
